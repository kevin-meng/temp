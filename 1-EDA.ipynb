{
 "cells": [
  {
   "cell_type": "markdown",
   "metadata": {},
   "source": [
    "# 多模态虚假新闻检测数据集"
   ]
  },
  {
   "cell_type": "markdown",
   "metadata": {},
   "source": [
    "## 官方信息"
   ]
  },
  {
   "cell_type": "markdown",
   "metadata": {},
   "source": [
    "本次虚假新闻检测任务中，包含文本和图片两种模态的信息。\n",
    "### 1)文本数据\n",
    "\n",
    "- id：新闻id，每条新闻的id均不相同，唯一表征一条新闻；\n",
    "- content: 新闻的文本内容；\n",
    "- picture_lists：新闻所包含的图片id，字段为空则代表该新闻没有图片，若有多张图片则按其在文本中出现的顺序以“\\t”分割。\n",
    "- comment_2：新闻的评论(最多两条)，字段为空则代表该新闻没有评论，多条评论则以“\\t”分割。\n",
    "- comment_all：新闻的所有评论，字段为空则代表该新闻没有评论，多条评论则以“\\t”分割。\n",
    "- category: 取值为{疫情，科技，政治，军事，财经商业，社会生活，文体娱乐，医药健康，教育考试}，表示新闻所属的领域；其中，训练集中包含除疫情外的所有领域的新闻，测试集只包含疫情相关的新闻，需要注意的是，疫情分类中的新闻按内容仍然可以被分入其它类别，只是考虑到比赛需要单独列出。\n",
    "- ncw_ label：取值为{0,1}，0表示需要进行真假判断，1表示不需要进行真假判断。\n",
    "- fake_ label：取值为{0,1},0表示非虚假新闻，1表示虚假新闻。\n",
    "- real_ label：取值为{0,1},0表示非真实新闻，1表示真实新闻。\n",
    "\n",
    "\n",
    "### 2)图片数据\n",
    "图片文件夹中，每张图片均以“id + 格式后缀”的形式命名，格式后缀包含“.jpg”，“.jpeg”,“.png”等多种形式，格式后缀也可能为空。\n",
    "\n",
    "**注意**：本赛题不可使用外部数据集。入围团队需提供代码、说明文件等材料供审查。"
   ]
  },
  {
   "cell_type": "markdown",
   "metadata": {},
   "source": [
    "### 提交要求\n",
    "参赛者以csv文件格式，提交模型结果到大数据竞赛平台，平台进行在线评分，实时排名。目前平台仅支持单文件提交，即所有提交内容需要放在一个文件中。csv文件字段如下："
   ]
  },
  {
   "cell_type": "markdown",
   "metadata": {},
   "source": [
    "![](https://imgkr.cn-bj.ufileos.com/9ab765c9-901b-463d-8147-d5e6f66fca0c.png)"
   ]
  },
  {
   "cell_type": "markdown",
   "metadata": {},
   "source": [
    "约束：real_prob_label_t+ fake_prob_label_t + ncw_prob_label_t = 1, t={0c,2c,all}。"
   ]
  },
  {
   "cell_type": "markdown",
   "metadata": {},
   "source": [
    "### 评测标准\n",
    "评价指标为加权求和的交叉熵，计算方法如下：\n",
    "![](https://imgkr.cn-bj.ufileos.com/bf0285ec-1636-4a11-a387-ee9a6f84d9cd.png)"
   ]
  },
  {
   "cell_type": "markdown",
   "metadata": {},
   "source": [
    "websie:https://www.datafountain.cn/competitions/422/datasets"
   ]
  },
  {
   "cell_type": "markdown",
   "metadata": {},
   "source": [
    "## Exploratory Data Analysis"
   ]
  },
  {
   "cell_type": "markdown",
   "metadata": {},
   "source": [
    "标签类型3类: 真：real、假：fake、无需真假判断：ncw"
   ]
  },
  {
   "cell_type": "code",
   "execution_count": 42,
   "metadata": {},
   "outputs": [],
   "source": [
    "import pandas as pd\n",
    "import os\n",
    "import matplotlib.pyplot as plt\n",
    "%matplotlib inline\n",
    "import warnings\n",
    "warnings.filterwarnings('ignore')"
   ]
  },
  {
   "cell_type": "code",
   "execution_count": 139,
   "metadata": {},
   "outputs": [],
   "source": [
    "import seaborn as sns"
   ]
  },
  {
   "cell_type": "code",
   "execution_count": 157,
   "metadata": {},
   "outputs": [],
   "source": [
    "def polt_distribution(df,key,drop_zero =False):\n",
    "    if drop_zero:\n",
    "        data = df[df[key]!=0].copy()\n",
    "    else:\n",
    "        data = df.copy()\n",
    "    fig,ax = plt.subplots(1,1,figsize=(6,5))\n",
    "    sns.distplot(data[data.type =='train'][key],norm_hist=True,hist=False,label='train',ax=ax)\n",
    "    sns.distplot(data[data.type =='test'][key],norm_hist=True,hist=False,label='test',ax=ax)"
   ]
  },
  {
   "cell_type": "code",
   "execution_count": 118,
   "metadata": {},
   "outputs": [],
   "source": [
    "def count_len(x):\n",
    "    if x!='':\n",
    "        return [len(a) for a in x.split('\\t') if a!=''] \n",
    "    else:\n",
    "        return [0]"
   ]
  },
  {
   "cell_type": "code",
   "execution_count": 185,
   "metadata": {},
   "outputs": [],
   "source": [
    "def labels(real,fake,ncw):\n",
    "    if real == 1:\n",
    "        return 'real'\n",
    "    elif fake == 1:\n",
    "        return 'fake'\n",
    "    elif ncw==1:\n",
    "        return 'ncw'\n",
    "    else:\n",
    "        return 'nan'"
   ]
  },
  {
   "cell_type": "markdown",
   "metadata": {},
   "source": [
    "### 读入数据"
   ]
  },
  {
   "cell_type": "code",
   "execution_count": 174,
   "metadata": {},
   "outputs": [],
   "source": [
    "train = pd.read_csv('data/train.csv')\n",
    "train['type'] = 'train'\n",
    "test = pd.read_csv('data/test_dataset.csv')\n",
    "test['type'] = 'test'\n",
    "\n",
    "df = pd.concat([train,test])\n",
    "\n",
    "df = df.fillna('')"
   ]
  },
  {
   "cell_type": "code",
   "execution_count": 175,
   "metadata": {
    "scrolled": true
   },
   "outputs": [
    {
     "data": {
      "text/plain": [
       "((53116, 11), 53116)"
      ]
     },
     "execution_count": 175,
     "metadata": {},
     "output_type": "execute_result"
    }
   ],
   "source": [
    "# id 唯一 无重复\n",
    "df.shape,df.id.nunique()"
   ]
  },
  {
   "cell_type": "code",
   "execution_count": 177,
   "metadata": {
    "scrolled": true
   },
   "outputs": [
    {
     "data": {
      "text/html": [
       "<div>\n",
       "<style scoped>\n",
       "    .dataframe tbody tr th:only-of-type {\n",
       "        vertical-align: middle;\n",
       "    }\n",
       "\n",
       "    .dataframe tbody tr th {\n",
       "        vertical-align: top;\n",
       "    }\n",
       "\n",
       "    .dataframe thead th {\n",
       "        text-align: right;\n",
       "    }\n",
       "</style>\n",
       "<table border=\"1\" class=\"dataframe\">\n",
       "  <thead>\n",
       "    <tr style=\"text-align: right;\">\n",
       "      <th></th>\n",
       "      <th>0</th>\n",
       "      <th>1</th>\n",
       "      <th>2</th>\n",
       "    </tr>\n",
       "  </thead>\n",
       "  <tbody>\n",
       "    <tr>\n",
       "      <th>category</th>\n",
       "      <td>文体娱乐</td>\n",
       "      <td>社会生活</td>\n",
       "      <td>社会生活</td>\n",
       "    </tr>\n",
       "    <tr>\n",
       "      <th>comment_2</th>\n",
       "      <td></td>\n",
       "      <td></td>\n",
       "      <td></td>\n",
       "    </tr>\n",
       "    <tr>\n",
       "      <th>comment_2c</th>\n",
       "      <td></td>\n",
       "      <td></td>\n",
       "      <td></td>\n",
       "    </tr>\n",
       "    <tr>\n",
       "      <th>comment_all</th>\n",
       "      <td></td>\n",
       "      <td></td>\n",
       "      <td></td>\n",
       "    </tr>\n",
       "    <tr>\n",
       "      <th>content</th>\n",
       "      <td>回复新浪网友对博文【国家文物局限制鉴宝节目现场估价转】的评论：;;查看原文：</td>\n",
       "      <td>//分享网易新闻:《发生在昆明的火锅店老板“辱滇门”，云南人该愤怒还是羞愧》|发生在昆明.....</td>\n",
       "      <td>西宁城管围殴民警扬言要把警察打死|西宁城管围...</td>\n",
       "    </tr>\n",
       "    <tr>\n",
       "      <th>fake_label</th>\n",
       "      <td>0</td>\n",
       "      <td>0</td>\n",
       "      <td>0</td>\n",
       "    </tr>\n",
       "    <tr>\n",
       "      <th>id</th>\n",
       "      <td>4028762460708675</td>\n",
       "      <td>4126670854660291</td>\n",
       "      <td>3702441948299962</td>\n",
       "    </tr>\n",
       "    <tr>\n",
       "      <th>ncw_label</th>\n",
       "      <td>0</td>\n",
       "      <td>0</td>\n",
       "      <td>0</td>\n",
       "    </tr>\n",
       "    <tr>\n",
       "      <th>picture_lists</th>\n",
       "      <td></td>\n",
       "      <td>63ad082a189566eed7c4bb3e4bc55012.jpg</td>\n",
       "      <td>4986dc2a5f09a87c7af5dfc57d7775cd.jpg</td>\n",
       "    </tr>\n",
       "    <tr>\n",
       "      <th>real_label</th>\n",
       "      <td>1</td>\n",
       "      <td>1</td>\n",
       "      <td>1</td>\n",
       "    </tr>\n",
       "    <tr>\n",
       "      <th>type</th>\n",
       "      <td>train</td>\n",
       "      <td>train</td>\n",
       "      <td>train</td>\n",
       "    </tr>\n",
       "  </tbody>\n",
       "</table>\n",
       "</div>"
      ],
      "text/plain": [
       "                                                    0  \\\n",
       "category                                         文体娱乐   \n",
       "comment_2                                               \n",
       "comment_2c                                              \n",
       "comment_all                                             \n",
       "content        回复新浪网友对博文【国家文物局限制鉴宝节目现场估价转】的评论：;;查看原文：   \n",
       "fake_label                                          0   \n",
       "id                                   4028762460708675   \n",
       "ncw_label                                           0   \n",
       "picture_lists                                           \n",
       "real_label                                          1   \n",
       "type                                            train   \n",
       "\n",
       "                                                               1  \\\n",
       "category                                                    社会生活   \n",
       "comment_2                                                          \n",
       "comment_2c                                                         \n",
       "comment_all                                                        \n",
       "content        //分享网易新闻:《发生在昆明的火锅店老板“辱滇门”，云南人该愤怒还是羞愧》|发生在昆明.....   \n",
       "fake_label                                                     0   \n",
       "id                                              4126670854660291   \n",
       "ncw_label                                                      0   \n",
       "picture_lists               63ad082a189566eed7c4bb3e4bc55012.jpg   \n",
       "real_label                                                     1   \n",
       "type                                                       train   \n",
       "\n",
       "                                                  2  \n",
       "category                                       社会生活  \n",
       "comment_2                                            \n",
       "comment_2c                                           \n",
       "comment_all                                          \n",
       "content                   西宁城管围殴民警扬言要把警察打死|西宁城管围...  \n",
       "fake_label                                        0  \n",
       "id                                 3702441948299962  \n",
       "ncw_label                                         0  \n",
       "picture_lists  4986dc2a5f09a87c7af5dfc57d7775cd.jpg  \n",
       "real_label                                        1  \n",
       "type                                          train  "
      ]
     },
     "execution_count": 177,
     "metadata": {},
     "output_type": "execute_result"
    }
   ],
   "source": [
    "df.head(3).T"
   ]
  },
  {
   "cell_type": "markdown",
   "metadata": {},
   "source": [
    "### 统计各类信息长度"
   ]
  },
  {
   "cell_type": "code",
   "execution_count": 178,
   "metadata": {},
   "outputs": [],
   "source": [
    "df['len_news'] = df['content'].apply(lambda x: len(x))\n",
    "\n",
    "# 评论每条,最短 最长情况\n",
    "df['len_min_comment_2'] = df['comment_2'].apply(lambda x: min(count_len(x)))\n",
    "df['len_min_comment_all'] = df['comment_all'].apply(lambda x: min(count_len(x) ))\n",
    "df['len_max_comment_2'] = df['comment_2'].apply(lambda x: max(count_len(x)))\n",
    "df['len_max_comment_all'] = df['comment_all'].apply(lambda x:max(count_len(x)))\n",
    "\n",
    "# 评论条数\n",
    "df['num_comment_2'] = df['comment_2'].apply(lambda x: len(count_len(x))  if x !='' else 0 )\n",
    "df['num_comment_all'] = df['comment_all'].apply(lambda x: len(count_len(x))  if x !='' else 0 )\n",
    "df['num_picutre_lists'] = df['picture_lists'].apply(lambda x: len(count_len(x))  if x !='' else 0 )\n"
   ]
  },
  {
   "cell_type": "code",
   "execution_count": 186,
   "metadata": {},
   "outputs": [],
   "source": [
    "df['label'] = df[['ncw_label','fake_label','real_label']].apply(lambda x: labels(x['real_label'],x['fake_label'],x['ncw_label']),axis=1)"
   ]
  },
  {
   "cell_type": "code",
   "execution_count": 187,
   "metadata": {},
   "outputs": [
    {
     "data": {
      "text/plain": [
       "real    16965\n",
       "fake    16841\n",
       "ncw     16104\n",
       "nan      3206\n",
       "Name: label, dtype: int64"
      ]
     },
     "execution_count": 187,
     "metadata": {},
     "output_type": "execute_result"
    }
   ],
   "source": [
    "df['label'].value_counts()"
   ]
  },
  {
   "cell_type": "markdown",
   "metadata": {},
   "source": [
    "## 数据探索"
   ]
  },
  {
   "cell_type": "markdown",
   "metadata": {},
   "source": [
    "### 1. 训练标签分布"
   ]
  },
  {
   "cell_type": "markdown",
   "metadata": {},
   "source": [
    "三类标签(真：real、假：fake、无需真假判断：ncw) **分布很平均**"
   ]
  },
  {
   "cell_type": "code",
   "execution_count": 188,
   "metadata": {
    "scrolled": true
   },
   "outputs": [
    {
     "data": {
      "text/html": [
       "<div>\n",
       "<style scoped>\n",
       "    .dataframe tbody tr th:only-of-type {\n",
       "        vertical-align: middle;\n",
       "    }\n",
       "\n",
       "    .dataframe tbody tr th {\n",
       "        vertical-align: top;\n",
       "    }\n",
       "\n",
       "    .dataframe thead th {\n",
       "        text-align: right;\n",
       "    }\n",
       "</style>\n",
       "<table border=\"1\" class=\"dataframe\">\n",
       "  <thead>\n",
       "    <tr style=\"text-align: right;\">\n",
       "      <th></th>\n",
       "      <th>ncw_label</th>\n",
       "      <th>fake_label</th>\n",
       "      <th>real_label</th>\n",
       "      <th>id</th>\n",
       "    </tr>\n",
       "  </thead>\n",
       "  <tbody>\n",
       "    <tr>\n",
       "      <th>0</th>\n",
       "      <td>0.0</td>\n",
       "      <td>0.0</td>\n",
       "      <td>1.0</td>\n",
       "      <td>16965</td>\n",
       "    </tr>\n",
       "    <tr>\n",
       "      <th>1</th>\n",
       "      <td>0.0</td>\n",
       "      <td>1.0</td>\n",
       "      <td>0.0</td>\n",
       "      <td>16841</td>\n",
       "    </tr>\n",
       "    <tr>\n",
       "      <th>2</th>\n",
       "      <td>1.0</td>\n",
       "      <td>0.0</td>\n",
       "      <td>0.0</td>\n",
       "      <td>16104</td>\n",
       "    </tr>\n",
       "  </tbody>\n",
       "</table>\n",
       "</div>"
      ],
      "text/plain": [
       "   ncw_label  fake_label  real_label     id\n",
       "0        0.0         0.0         1.0  16965\n",
       "1        0.0         1.0         0.0  16841\n",
       "2        1.0         0.0         0.0  16104"
      ]
     },
     "execution_count": 188,
     "metadata": {},
     "output_type": "execute_result"
    }
   ],
   "source": [
    "df.loc[df.type=='train',['id','ncw_label','fake_label','real_label']].groupby(['ncw_label','fake_label','real_label']).agg(len).reset_index()"
   ]
  },
  {
   "cell_type": "markdown",
   "metadata": {},
   "source": [
    "### 2. 新闻类别  category \n",
    "训练数据 8类 测试数据1类(疫情).\n",
    "\n",
    "目标:用8类数据预测疫情类新闻\n"
   ]
  },
  {
   "cell_type": "code",
   "execution_count": 113,
   "metadata": {
    "scrolled": true
   },
   "outputs": [
    {
     "data": {
      "text/html": [
       "<style  type=\"text/css\" >\n",
       "    #T_a60358f2_6122_11ea_8dd0_0242ac110003row0_col1 {\n",
       "            width:  10em;\n",
       "             height:  80%;\n",
       "            background:  linear-gradient(90deg,#d65f5f 100.0%, transparent 100.0%);\n",
       "        }    #T_a60358f2_6122_11ea_8dd0_0242ac110003row1_col1 {\n",
       "            width:  10em;\n",
       "             height:  80%;\n",
       "            background:  linear-gradient(90deg,#d65f5f 43.4%, transparent 43.4%);\n",
       "        }    #T_a60358f2_6122_11ea_8dd0_0242ac110003row2_col1 {\n",
       "            width:  10em;\n",
       "             height:  80%;\n",
       "            background:  linear-gradient(90deg,#d65f5f 33.5%, transparent 33.5%);\n",
       "        }    #T_a60358f2_6122_11ea_8dd0_0242ac110003row3_col1 {\n",
       "            width:  10em;\n",
       "             height:  80%;\n",
       "            background:  linear-gradient(90deg,#d65f5f 7.1%, transparent 7.1%);\n",
       "        }    #T_a60358f2_6122_11ea_8dd0_0242ac110003row4_col1 {\n",
       "            width:  10em;\n",
       "             height:  80%;\n",
       "            background:  linear-gradient(90deg,#d65f5f 6.0%, transparent 6.0%);\n",
       "        }    #T_a60358f2_6122_11ea_8dd0_0242ac110003row5_col1 {\n",
       "            width:  10em;\n",
       "             height:  80%;\n",
       "            background:  linear-gradient(90deg,#d65f5f 4.6%, transparent 4.6%);\n",
       "        }    #T_a60358f2_6122_11ea_8dd0_0242ac110003row6_col1 {\n",
       "            width:  10em;\n",
       "             height:  80%;\n",
       "            background:  linear-gradient(90deg,#d65f5f 2.5%, transparent 2.5%);\n",
       "        }    #T_a60358f2_6122_11ea_8dd0_0242ac110003row7_col1 {\n",
       "            width:  10em;\n",
       "             height:  80%;\n",
       "        }    #T_a60358f2_6122_11ea_8dd0_0242ac110003row8_col0 {\n",
       "            width:  10em;\n",
       "             height:  80%;\n",
       "        }</style><table id=\"T_a60358f2_6122_11ea_8dd0_0242ac110003\" ><thead>    <tr>        <th class=\"blank level0\" ></th>        <th class=\"col_heading level0 col0\" >test</th>        <th class=\"col_heading level0 col1\" >train</th>    </tr>    <tr>        <th class=\"index_name level0\" >category</th>        <th class=\"blank\" ></th>        <th class=\"blank\" ></th>    </tr></thead><tbody>\n",
       "                <tr>\n",
       "                        <th id=\"T_a60358f2_6122_11ea_8dd0_0242ac110003level0_row0\" class=\"row_heading level0 row0\" >社会生活</th>\n",
       "                        <td id=\"T_a60358f2_6122_11ea_8dd0_0242ac110003row0_col0\" class=\"data row0 col0\" >nan</td>\n",
       "                        <td id=\"T_a60358f2_6122_11ea_8dd0_0242ac110003row0_col1\" class=\"data row0 col1\" >22258</td>\n",
       "            </tr>\n",
       "            <tr>\n",
       "                        <th id=\"T_a60358f2_6122_11ea_8dd0_0242ac110003level0_row1\" class=\"row_heading level0 row1\" >文体娱乐</th>\n",
       "                        <td id=\"T_a60358f2_6122_11ea_8dd0_0242ac110003row1_col0\" class=\"data row1 col0\" >nan</td>\n",
       "                        <td id=\"T_a60358f2_6122_11ea_8dd0_0242ac110003row1_col1\" class=\"data row1 col1\" >10232</td>\n",
       "            </tr>\n",
       "            <tr>\n",
       "                        <th id=\"T_a60358f2_6122_11ea_8dd0_0242ac110003level0_row2\" class=\"row_heading level0 row2\" >医药健康</th>\n",
       "                        <td id=\"T_a60358f2_6122_11ea_8dd0_0242ac110003row2_col0\" class=\"data row2 col0\" >nan</td>\n",
       "                        <td id=\"T_a60358f2_6122_11ea_8dd0_0242ac110003row2_col1\" class=\"data row2 col1\" >8123</td>\n",
       "            </tr>\n",
       "            <tr>\n",
       "                        <th id=\"T_a60358f2_6122_11ea_8dd0_0242ac110003level0_row3\" class=\"row_heading level0 row3\" >科技</th>\n",
       "                        <td id=\"T_a60358f2_6122_11ea_8dd0_0242ac110003row3_col0\" class=\"data row3 col0\" >nan</td>\n",
       "                        <td id=\"T_a60358f2_6122_11ea_8dd0_0242ac110003row3_col1\" class=\"data row3 col1\" >2506</td>\n",
       "            </tr>\n",
       "            <tr>\n",
       "                        <th id=\"T_a60358f2_6122_11ea_8dd0_0242ac110003level0_row4\" class=\"row_heading level0 row4\" >财经商业</th>\n",
       "                        <td id=\"T_a60358f2_6122_11ea_8dd0_0242ac110003row4_col0\" class=\"data row4 col0\" >nan</td>\n",
       "                        <td id=\"T_a60358f2_6122_11ea_8dd0_0242ac110003row4_col1\" class=\"data row4 col1\" >2267</td>\n",
       "            </tr>\n",
       "            <tr>\n",
       "                        <th id=\"T_a60358f2_6122_11ea_8dd0_0242ac110003level0_row5\" class=\"row_heading level0 row5\" >军事</th>\n",
       "                        <td id=\"T_a60358f2_6122_11ea_8dd0_0242ac110003row5_col0\" class=\"data row5 col0\" >nan</td>\n",
       "                        <td id=\"T_a60358f2_6122_11ea_8dd0_0242ac110003row5_col1\" class=\"data row5 col1\" >1978</td>\n",
       "            </tr>\n",
       "            <tr>\n",
       "                        <th id=\"T_a60358f2_6122_11ea_8dd0_0242ac110003level0_row6\" class=\"row_heading level0 row6\" >政治</th>\n",
       "                        <td id=\"T_a60358f2_6122_11ea_8dd0_0242ac110003row6_col0\" class=\"data row6 col0\" >nan</td>\n",
       "                        <td id=\"T_a60358f2_6122_11ea_8dd0_0242ac110003row6_col1\" class=\"data row6 col1\" >1544</td>\n",
       "            </tr>\n",
       "            <tr>\n",
       "                        <th id=\"T_a60358f2_6122_11ea_8dd0_0242ac110003level0_row7\" class=\"row_heading level0 row7\" >教育考试</th>\n",
       "                        <td id=\"T_a60358f2_6122_11ea_8dd0_0242ac110003row7_col0\" class=\"data row7 col0\" >nan</td>\n",
       "                        <td id=\"T_a60358f2_6122_11ea_8dd0_0242ac110003row7_col1\" class=\"data row7 col1\" >1002</td>\n",
       "            </tr>\n",
       "            <tr>\n",
       "                        <th id=\"T_a60358f2_6122_11ea_8dd0_0242ac110003level0_row8\" class=\"row_heading level0 row8\" >疫情</th>\n",
       "                        <td id=\"T_a60358f2_6122_11ea_8dd0_0242ac110003row8_col0\" class=\"data row8 col0\" >3206</td>\n",
       "                        <td id=\"T_a60358f2_6122_11ea_8dd0_0242ac110003row8_col1\" class=\"data row8 col1\" >nan</td>\n",
       "            </tr>\n",
       "    </tbody></table>"
      ],
      "text/plain": [
       "<pandas.io.formats.style.Styler at 0x7fcbf77b2668>"
      ]
     },
     "execution_count": 113,
     "metadata": {},
     "output_type": "execute_result"
    }
   ],
   "source": [
    "temp= df.groupby(['category','type']).agg(len)[['id']].unstack()\n",
    "temp.columns = ['test','train']\n",
    "temp.sort_values('train',ascending=False).style.bar()"
   ]
  },
  {
   "cell_type": "markdown",
   "metadata": {},
   "source": [
    "### 3. 训练集标签类别整体分布"
   ]
  },
  {
   "cell_type": "markdown",
   "metadata": {},
   "source": [
    "从数据上看,基本上 `fake` 和 `real` 都集中在`社会生活`,这也算与 测试集 `疫情` 相对应的.\n",
    "\n",
    "不用判断 主要集中在 `文体娱乐` 上, 估计都是些八卦吧"
   ]
  },
  {
   "cell_type": "code",
   "execution_count": 190,
   "metadata": {},
   "outputs": [],
   "source": [
    "temp= df[df.type=='train'].groupby(['category','label']).agg(len)[['id']].unstack()"
   ]
  },
  {
   "cell_type": "code",
   "execution_count": 196,
   "metadata": {},
   "outputs": [
    {
     "data": {
      "text/html": [
       "<style  type=\"text/css\" >\n",
       "    #T_0cdd13ca_612c_11ea_8dd0_0242ac110003row0_col0 {\n",
       "            width:  10em;\n",
       "             height:  80%;\n",
       "            background:  linear-gradient(90deg,#d65f5f 100.0%, transparent 100.0%);\n",
       "        }    #T_0cdd13ca_612c_11ea_8dd0_0242ac110003row0_col1 {\n",
       "            width:  10em;\n",
       "             height:  80%;\n",
       "            background:  linear-gradient(90deg,#d65f5f 100.0%, transparent 100.0%);\n",
       "        }    #T_0cdd13ca_612c_11ea_8dd0_0242ac110003row0_col2 {\n",
       "            width:  10em;\n",
       "             height:  80%;\n",
       "            background:  linear-gradient(90deg,#d65f5f 20.5%, transparent 20.5%);\n",
       "        }    #T_0cdd13ca_612c_11ea_8dd0_0242ac110003row1_col0 {\n",
       "            width:  10em;\n",
       "             height:  80%;\n",
       "            background:  linear-gradient(90deg,#d65f5f 31.7%, transparent 31.7%);\n",
       "        }    #T_0cdd13ca_612c_11ea_8dd0_0242ac110003row1_col1 {\n",
       "            width:  10em;\n",
       "             height:  80%;\n",
       "            background:  linear-gradient(90deg,#d65f5f 27.7%, transparent 27.7%);\n",
       "        }    #T_0cdd13ca_612c_11ea_8dd0_0242ac110003row1_col2 {\n",
       "            width:  10em;\n",
       "             height:  80%;\n",
       "            background:  linear-gradient(90deg,#d65f5f 22.7%, transparent 22.7%);\n",
       "        }    #T_0cdd13ca_612c_11ea_8dd0_0242ac110003row2_col0 {\n",
       "            width:  10em;\n",
       "             height:  80%;\n",
       "            background:  linear-gradient(90deg,#d65f5f 11.3%, transparent 11.3%);\n",
       "        }    #T_0cdd13ca_612c_11ea_8dd0_0242ac110003row2_col1 {\n",
       "            width:  10em;\n",
       "             height:  80%;\n",
       "            background:  linear-gradient(90deg,#d65f5f 11.7%, transparent 11.7%);\n",
       "        }    #T_0cdd13ca_612c_11ea_8dd0_0242ac110003row2_col2 {\n",
       "            width:  10em;\n",
       "             height:  80%;\n",
       "            background:  linear-gradient(90deg,#d65f5f 100.0%, transparent 100.0%);\n",
       "        }    #T_0cdd13ca_612c_11ea_8dd0_0242ac110003row3_col0 {\n",
       "            width:  10em;\n",
       "             height:  80%;\n",
       "            background:  linear-gradient(90deg,#d65f5f 5.6%, transparent 5.6%);\n",
       "        }    #T_0cdd13ca_612c_11ea_8dd0_0242ac110003row3_col1 {\n",
       "            width:  10em;\n",
       "             height:  80%;\n",
       "            background:  linear-gradient(90deg,#d65f5f 5.9%, transparent 5.9%);\n",
       "        }    #T_0cdd13ca_612c_11ea_8dd0_0242ac110003row3_col2 {\n",
       "            width:  10em;\n",
       "             height:  80%;\n",
       "            background:  linear-gradient(90deg,#d65f5f 9.5%, transparent 9.5%);\n",
       "        }    #T_0cdd13ca_612c_11ea_8dd0_0242ac110003row4_col0 {\n",
       "            width:  10em;\n",
       "             height:  80%;\n",
       "            background:  linear-gradient(90deg,#d65f5f 4.4%, transparent 4.4%);\n",
       "        }    #T_0cdd13ca_612c_11ea_8dd0_0242ac110003row4_col1 {\n",
       "            width:  10em;\n",
       "             height:  80%;\n",
       "            background:  linear-gradient(90deg,#d65f5f 5.0%, transparent 5.0%);\n",
       "        }    #T_0cdd13ca_612c_11ea_8dd0_0242ac110003row4_col2 {\n",
       "            width:  10em;\n",
       "             height:  80%;\n",
       "            background:  linear-gradient(90deg,#d65f5f 2.7%, transparent 2.7%);\n",
       "        }    #T_0cdd13ca_612c_11ea_8dd0_0242ac110003row5_col0 {\n",
       "            width:  10em;\n",
       "             height:  80%;\n",
       "            background:  linear-gradient(90deg,#d65f5f 3.8%, transparent 3.8%);\n",
       "        }    #T_0cdd13ca_612c_11ea_8dd0_0242ac110003row5_col1 {\n",
       "            width:  10em;\n",
       "             height:  80%;\n",
       "            background:  linear-gradient(90deg,#d65f5f 2.3%, transparent 2.3%);\n",
       "        }    #T_0cdd13ca_612c_11ea_8dd0_0242ac110003row5_col2 {\n",
       "            width:  10em;\n",
       "             height:  80%;\n",
       "        }    #T_0cdd13ca_612c_11ea_8dd0_0242ac110003row6_col0 {\n",
       "            width:  10em;\n",
       "             height:  80%;\n",
       "            background:  linear-gradient(90deg,#d65f5f 0.2%, transparent 0.2%);\n",
       "        }    #T_0cdd13ca_612c_11ea_8dd0_0242ac110003row6_col1 {\n",
       "            width:  10em;\n",
       "             height:  80%;\n",
       "            background:  linear-gradient(90deg,#d65f5f 0.6%, transparent 0.6%);\n",
       "        }    #T_0cdd13ca_612c_11ea_8dd0_0242ac110003row6_col2 {\n",
       "            width:  10em;\n",
       "             height:  80%;\n",
       "            background:  linear-gradient(90deg,#d65f5f 20.0%, transparent 20.0%);\n",
       "        }    #T_0cdd13ca_612c_11ea_8dd0_0242ac110003row7_col0 {\n",
       "            width:  10em;\n",
       "             height:  80%;\n",
       "        }    #T_0cdd13ca_612c_11ea_8dd0_0242ac110003row7_col1 {\n",
       "            width:  10em;\n",
       "             height:  80%;\n",
       "        }    #T_0cdd13ca_612c_11ea_8dd0_0242ac110003row7_col2 {\n",
       "            width:  10em;\n",
       "             height:  80%;\n",
       "            background:  linear-gradient(90deg,#d65f5f 28.3%, transparent 28.3%);\n",
       "        }</style><table id=\"T_0cdd13ca_612c_11ea_8dd0_0242ac110003\" ><thead>    <tr>        <th class=\"blank level0\" ></th>        <th class=\"col_heading level0 col0\" >fake</th>        <th class=\"col_heading level0 col1\" >real</th>        <th class=\"col_heading level0 col2\" >ncw</th>    </tr>    <tr>        <th class=\"index_name level0\" >category</th>        <th class=\"blank\" ></th>        <th class=\"blank\" ></th>        <th class=\"blank\" ></th>    </tr></thead><tbody>\n",
       "                <tr>\n",
       "                        <th id=\"T_0cdd13ca_612c_11ea_8dd0_0242ac110003level0_row0\" class=\"row_heading level0 row0\" >社会生活</th>\n",
       "                        <td id=\"T_0cdd13ca_612c_11ea_8dd0_0242ac110003row0_col0\" class=\"data row0 col0\" >10203</td>\n",
       "                        <td id=\"T_0cdd13ca_612c_11ea_8dd0_0242ac110003row0_col1\" class=\"data row0 col1\" >10413</td>\n",
       "                        <td id=\"T_0cdd13ca_612c_11ea_8dd0_0242ac110003row0_col2\" class=\"data row0 col2\" >1642</td>\n",
       "            </tr>\n",
       "            <tr>\n",
       "                        <th id=\"T_0cdd13ca_612c_11ea_8dd0_0242ac110003level0_row1\" class=\"row_heading level0 row1\" >医药健康</th>\n",
       "                        <td id=\"T_0cdd13ca_612c_11ea_8dd0_0242ac110003row1_col0\" class=\"data row1 col0\" >3321</td>\n",
       "                        <td id=\"T_0cdd13ca_612c_11ea_8dd0_0242ac110003row1_col1\" class=\"data row1 col1\" >2999</td>\n",
       "                        <td id=\"T_0cdd13ca_612c_11ea_8dd0_0242ac110003row1_col2\" class=\"data row1 col2\" >1803</td>\n",
       "            </tr>\n",
       "            <tr>\n",
       "                        <th id=\"T_0cdd13ca_612c_11ea_8dd0_0242ac110003level0_row2\" class=\"row_heading level0 row2\" >文体娱乐</th>\n",
       "                        <td id=\"T_0cdd13ca_612c_11ea_8dd0_0242ac110003row2_col0\" class=\"data row2 col0\" >1267</td>\n",
       "                        <td id=\"T_0cdd13ca_612c_11ea_8dd0_0242ac110003row2_col1\" class=\"data row2 col1\" >1353</td>\n",
       "                        <td id=\"T_0cdd13ca_612c_11ea_8dd0_0242ac110003row2_col2\" class=\"data row2 col2\" >7612</td>\n",
       "            </tr>\n",
       "            <tr>\n",
       "                        <th id=\"T_0cdd13ca_612c_11ea_8dd0_0242ac110003level0_row3\" class=\"row_heading level0 row3\" >财经商业</th>\n",
       "                        <td id=\"T_0cdd13ca_612c_11ea_8dd0_0242ac110003row3_col0\" class=\"data row3 col0\" >693</td>\n",
       "                        <td id=\"T_0cdd13ca_612c_11ea_8dd0_0242ac110003row3_col1\" class=\"data row3 col1\" >762</td>\n",
       "                        <td id=\"T_0cdd13ca_612c_11ea_8dd0_0242ac110003row3_col2\" class=\"data row3 col2\" >812</td>\n",
       "            </tr>\n",
       "            <tr>\n",
       "                        <th id=\"T_0cdd13ca_612c_11ea_8dd0_0242ac110003level0_row4\" class=\"row_heading level0 row4\" >政治</th>\n",
       "                        <td id=\"T_0cdd13ca_612c_11ea_8dd0_0242ac110003row4_col0\" class=\"data row4 col0\" >571</td>\n",
       "                        <td id=\"T_0cdd13ca_612c_11ea_8dd0_0242ac110003row4_col1\" class=\"data row4 col1\" >670</td>\n",
       "                        <td id=\"T_0cdd13ca_612c_11ea_8dd0_0242ac110003row4_col2\" class=\"data row4 col2\" >303</td>\n",
       "            </tr>\n",
       "            <tr>\n",
       "                        <th id=\"T_0cdd13ca_612c_11ea_8dd0_0242ac110003level0_row5\" class=\"row_heading level0 row5\" >教育考试</th>\n",
       "                        <td id=\"T_0cdd13ca_612c_11ea_8dd0_0242ac110003row5_col0\" class=\"data row5 col0\" >509</td>\n",
       "                        <td id=\"T_0cdd13ca_612c_11ea_8dd0_0242ac110003row5_col1\" class=\"data row5 col1\" >392</td>\n",
       "                        <td id=\"T_0cdd13ca_612c_11ea_8dd0_0242ac110003row5_col2\" class=\"data row5 col2\" >101</td>\n",
       "            </tr>\n",
       "            <tr>\n",
       "                        <th id=\"T_0cdd13ca_612c_11ea_8dd0_0242ac110003level0_row6\" class=\"row_heading level0 row6\" >军事</th>\n",
       "                        <td id=\"T_0cdd13ca_612c_11ea_8dd0_0242ac110003row6_col0\" class=\"data row6 col0\" >151</td>\n",
       "                        <td id=\"T_0cdd13ca_612c_11ea_8dd0_0242ac110003row6_col1\" class=\"data row6 col1\" >221</td>\n",
       "                        <td id=\"T_0cdd13ca_612c_11ea_8dd0_0242ac110003row6_col2\" class=\"data row6 col2\" >1606</td>\n",
       "            </tr>\n",
       "            <tr>\n",
       "                        <th id=\"T_0cdd13ca_612c_11ea_8dd0_0242ac110003level0_row7\" class=\"row_heading level0 row7\" >科技</th>\n",
       "                        <td id=\"T_0cdd13ca_612c_11ea_8dd0_0242ac110003row7_col0\" class=\"data row7 col0\" >126</td>\n",
       "                        <td id=\"T_0cdd13ca_612c_11ea_8dd0_0242ac110003row7_col1\" class=\"data row7 col1\" >155</td>\n",
       "                        <td id=\"T_0cdd13ca_612c_11ea_8dd0_0242ac110003row7_col2\" class=\"data row7 col2\" >2225</td>\n",
       "            </tr>\n",
       "    </tbody></table>"
      ],
      "text/plain": [
       "<pandas.io.formats.style.Styler at 0x7fcb8e687b70>"
      ]
     },
     "execution_count": 196,
     "metadata": {},
     "output_type": "execute_result"
    }
   ],
   "source": [
    "temp.columns = ['fake','ncw','real']\n",
    "temp = temp[['fake','real','ncw']]\n",
    "temp.sort_values('fake',ascending=False).style.bar()"
   ]
  },
  {
   "cell_type": "markdown",
   "metadata": {},
   "source": [
    "### 4. 新闻长度分布\n",
    "\n",
    "train 中 短新闻(帖子) 较多"
   ]
  },
  {
   "cell_type": "code",
   "execution_count": 171,
   "metadata": {
    "scrolled": true
   },
   "outputs": [
    {
     "data": {
      "image/png": "[encoded data removed]",
      "text/plain": [
       "<Figure size 432x360 with 1 Axes>"
      ]
     },
     "metadata": {
      "needs_background": "light"
     },
     "output_type": "display_data"
    }
   ],
   "source": [
    "polt_distribution(df,key='len_news')"
   ]
  },
  {
   "cell_type": "markdown",
   "metadata": {},
   "source": [
    "### 5. 评论最长的长度分布\n",
    "\n",
    "test 评论普遍较短."
   ]
  },
  {
   "cell_type": "code",
   "execution_count": 155,
   "metadata": {
    "scrolled": true
   },
   "outputs": [
    {
     "data": {
      "image/png": "[encoded data removed]",
      "text/plain": [
       "<Figure size 432x360 with 1 Axes>"
      ]
     },
     "metadata": {
      "needs_background": "light"
     },
     "output_type": "display_data"
    }
   ],
   "source": [
    "polt_distribution(df,key='len_max_comment_all')"
   ]
  },
  {
   "cell_type": "code",
   "execution_count": 158,
   "metadata": {
    "scrolled": false
   },
   "outputs": [
    {
     "data": {
      "image/png": "[encoded data removed]",
      "text/plain": [
       "<Figure size 432x360 with 1 Axes>"
      ]
     },
     "metadata": {
      "needs_background": "light"
     },
     "output_type": "display_data"
    }
   ],
   "source": [
    "# 剔除无评论 后的评论长度数据分布 \n",
    "polt_distribution(df,key='len_max_comment_all',drop_zero=True)"
   ]
  },
  {
   "cell_type": "code",
   "execution_count": null,
   "metadata": {},
   "outputs": [],
   "source": []
  },
  {
   "cell_type": "markdown",
   "metadata": {},
   "source": [
    "### 6. 评论 2条时 中最长的长度分布\n"
   ]
  },
  {
   "cell_type": "markdown",
   "metadata": {},
   "source": [
    "- train 无数据, \n",
    "- test 中 62 % 的新闻不存在 缺失"
   ]
  },
  {
   "cell_type": "code",
   "execution_count": 166,
   "metadata": {},
   "outputs": [
    {
     "data": {
      "text/html": [
       "<div>\n",
       "<style scoped>\n",
       "    .dataframe tbody tr th:only-of-type {\n",
       "        vertical-align: middle;\n",
       "    }\n",
       "\n",
       "    .dataframe tbody tr th {\n",
       "        vertical-align: top;\n",
       "    }\n",
       "\n",
       "    .dataframe thead th {\n",
       "        text-align: right;\n",
       "    }\n",
       "</style>\n",
       "<table border=\"1\" class=\"dataframe\">\n",
       "  <thead>\n",
       "    <tr style=\"text-align: right;\">\n",
       "      <th></th>\n",
       "      <th>0</th>\n",
       "      <th>4</th>\n",
       "      <th>9</th>\n",
       "      <th>6</th>\n",
       "      <th>10</th>\n",
       "    </tr>\n",
       "  </thead>\n",
       "  <tbody>\n",
       "    <tr>\n",
       "      <th>len_max_comment_2</th>\n",
       "      <td>0.622895</td>\n",
       "      <td>0.025889</td>\n",
       "      <td>0.017779</td>\n",
       "      <td>0.016843</td>\n",
       "      <td>0.016843</td>\n",
       "    </tr>\n",
       "  </tbody>\n",
       "</table>\n",
       "</div>"
      ],
      "text/plain": [
       "                         0         4         9         6         10\n",
       "len_max_comment_2  0.622895  0.025889  0.017779  0.016843  0.016843"
      ]
     },
     "execution_count": 166,
     "metadata": {},
     "output_type": "execute_result"
    }
   ],
   "source": [
    "(df[df.type =='test']['len_max_comment_2'].value_counts()/len(df[df.type =='test'])).to_frame().head().T"
   ]
  },
  {
   "cell_type": "code",
   "execution_count": 162,
   "metadata": {
    "scrolled": false
   },
   "outputs": [
    {
     "data": {
      "image/png": "[encoded data removed]",
      "text/plain": [
       "<Figure size 432x360 with 1 Axes>"
      ]
     },
     "metadata": {
      "needs_background": "light"
     },
     "output_type": "display_data"
    }
   ],
   "source": [
    "polt_distribution(df,key='len_max_comment_2')"
   ]
  },
  {
   "cell_type": "code",
   "execution_count": 163,
   "metadata": {
    "scrolled": false
   },
   "outputs": [
    {
     "data": {
      "image/png": "[encoded data removed]",
      "text/plain": [
       "<Figure size 432x360 with 1 Axes>"
      ]
     },
     "metadata": {
      "needs_background": "light"
     },
     "output_type": "display_data"
    }
   ],
   "source": [
    "# 剔除无评论 后的评论长度数据分布 \n",
    "polt_distribution(df,key='len_max_comment_2',drop_zero=True)"
   ]
  },
  {
   "cell_type": "markdown",
   "metadata": {},
   "source": [
    "### 7. 评论条数的长度分布\n",
    "\n",
    "test 评论普遍较短."
   ]
  },
  {
   "cell_type": "code",
   "execution_count": 159,
   "metadata": {
    "scrolled": true
   },
   "outputs": [
    {
     "data": {
      "image/png": "[encoded data removed]",
      "text/plain": [
       "<Figure size 432x360 with 1 Axes>"
      ]
     },
     "metadata": {
      "needs_background": "light"
     },
     "output_type": "display_data"
    }
   ],
   "source": [
    "polt_distribution(df,key='num_comment_all')"
   ]
  },
  {
   "cell_type": "code",
   "execution_count": 160,
   "metadata": {
    "scrolled": true
   },
   "outputs": [
    {
     "data": {
      "image/png": "[encoded data removed]",
      "text/plain": [
       "<Figure size 432x360 with 1 Axes>"
      ]
     },
     "metadata": {
      "needs_background": "light"
     },
     "output_type": "display_data"
    }
   ],
   "source": [
    "# 剔除无评论 后的评论条数数据分布 \n",
    "polt_distribution(df,key='num_comment_all',drop_zero=True)"
   ]
  },
  {
   "cell_type": "code",
   "execution_count": null,
   "metadata": {},
   "outputs": [],
   "source": []
  },
  {
   "cell_type": "code",
   "execution_count": null,
   "metadata": {},
   "outputs": [],
   "source": []
  },
  {
   "cell_type": "markdown",
   "metadata": {},
   "source": [
    "### 8. 图片数量分布\n",
    "\n",
    "但从帖子的配图来看, train 和 test 有明显不一致,主要在配图数量为1 的占比上.\n",
    "test 上大部分 **86.8%** 都没有配图."
   ]
  },
  {
   "cell_type": "code",
   "execution_count": 150,
   "metadata": {
    "scrolled": false
   },
   "outputs": [
    {
     "data": {
      "image/png": "[encoded data removed]",
      "text/plain": [
       "<Figure size 432x360 with 1 Axes>"
      ]
     },
     "metadata": {
      "needs_background": "light"
     },
     "output_type": "display_data"
    }
   ],
   "source": [
    "polt_distribution(df,key='num_picutre_lists')"
   ]
  },
  {
   "cell_type": "markdown",
   "metadata": {},
   "source": [
    "#### 从提供的 图片数据来看:"
   ]
  },
  {
   "cell_type": "code",
   "execution_count": 170,
   "metadata": {},
   "outputs": [
    {
     "name": "stdout",
     "output_type": "stream",
     "text": [
      "训练集图片数: 61432\n",
      "测试集图片数: 1236\n"
     ]
    }
   ],
   "source": [
    "print('训练集图片数:',len(os.listdir('./data/train_images/')))\n",
    "print('测试集图片数:',len(os.listdir('./data/test_images/')))"
   ]
  },
  {
   "cell_type": "markdown",
   "metadata": {},
   "source": [
    "大致看了下,测试集图片,有以下发现\"\n",
    "- 1.  `药袋哥` 的出镜率很高,不知是何意\n",
    "- 2. 测试集中 内容重复图片较多"
   ]
  },
  {
   "cell_type": "markdown",
   "metadata": {},
   "source": [
    "药袋哥新闻:(新闻里的图片,基本都在测试集中)\n",
    "\n",
    "http://www.chinanews.com/gn/2020/03-07/9116912.shtml"
   ]
  },
  {
   "cell_type": "code",
   "execution_count": null,
   "metadata": {},
   "outputs": [],
   "source": []
  },
  {
   "cell_type": "code",
   "execution_count": null,
   "metadata": {},
   "outputs": [],
   "source": []
  },
  {
   "cell_type": "code",
   "execution_count": null,
   "metadata": {},
   "outputs": [],
   "source": []
  },
  {
   "cell_type": "code",
   "execution_count": null,
   "metadata": {},
   "outputs": [],
   "source": []
  }
 ],
 "metadata": {
  "kernelspec": {
   "display_name": "Python 3",
   "language": "python",
   "name": "python3"
  },
  "language_info": {
   "codemirror_mode": {
    "name": "ipython",
    "version": 3
   },
   "file_extension": ".py",
   "mimetype": "text/x-python",
   "name": "python",
   "nbconvert_exporter": "python",
   "pygments_lexer": "ipython3",
   "version": "3.6.9"
  }
 },
 "nbformat": 4,
 "nbformat_minor": 4
}
